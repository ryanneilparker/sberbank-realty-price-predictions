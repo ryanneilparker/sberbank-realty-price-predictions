{
 "cells": [
  {
   "cell_type": "code",
   "execution_count": 1,
   "id": "3ae14541",
   "metadata": {
    "_cell_guid": "b1076dfc-b9ad-4769-8c92-a6c4dae69d19",
    "_uuid": "8f2839f25d086af736a60e9eeb907d3b93b6e0e5",
    "execution": {
     "iopub.execute_input": "2022-10-03T12:52:16.230195Z",
     "iopub.status.busy": "2022-10-03T12:52:16.229653Z",
     "iopub.status.idle": "2022-10-03T12:52:16.268467Z",
     "shell.execute_reply": "2022-10-03T12:52:16.266876Z"
    },
    "papermill": {
     "duration": 0.063301,
     "end_time": "2022-10-03T12:52:16.271759",
     "exception": false,
     "start_time": "2022-10-03T12:52:16.208458",
     "status": "completed"
    },
    "tags": []
   },
   "outputs": [
    {
     "name": "stdout",
     "output_type": "stream",
     "text": [
      "/kaggle/input/sberbank-realty-data-2/data_dictionary.txt\n",
      "/kaggle/input/sberbank-realty-data-2/sample_submission.csv/sample_submission.csv\n",
      "/kaggle/input/sberbank-realty-data-2/macro.csv/macro.csv\n",
      "/kaggle/input/sberbank-realty-data-2/train.csv/train.csv\n",
      "/kaggle/input/sberbank-realty-data-2/test.csv/test.csv\n"
     ]
    }
   ],
   "source": [
    "# This Python 3 environment comes with many helpful analytics libraries installed\n",
    "# It is defined by the kaggle/python Docker image: https://github.com/kaggle/docker-python\n",
    "# For example, here's several helpful packages to load\n",
    "\n",
    "import numpy as np # linear algebra\n",
    "import pandas as pd # data processing, CSV file I/O (e.g. pd.read_csv)\n",
    "\n",
    "# Input data files are available in the read-only \"../input/\" directory\n",
    "# For example, running this (by clicking run or pressing Shift+Enter) will list all files under the input directory\n",
    "\n",
    "import os\n",
    "for dirname, _, filenames in os.walk('/kaggle/input'):\n",
    "    for filename in filenames:\n",
    "        print(os.path.join(dirname, filename))\n",
    "\n",
    "# You can write up to 20GB to the current directory (/kaggle/working/) that gets preserved as output when you create a version using \"Save & Run All\" \n",
    "# You can also write temporary files to /kaggle/temp/, but they won't be saved outside of the current session"
   ]
  },
  {
   "cell_type": "markdown",
   "id": "8df58438",
   "metadata": {
    "papermill": {
     "duration": 0.013638,
     "end_time": "2022-10-03T12:52:16.301846",
     "exception": false,
     "start_time": "2022-10-03T12:52:16.288208",
     "status": "completed"
    },
    "tags": []
   },
   "source": [
    "# Problem Description\n",
    "\n",
    "Housing costs demand a significant investment from both consumers and developers. And when it comes to planning a budget—whether personal or corporate—the last thing anyone needs is uncertainty about one of their biggets expenses. Sberbank, Russia’s oldest and largest bank, helps their customers by making predictions about realty prices so renters, developers, and lenders are more confident when they sign a lease or purchase a building.\n",
    "\n",
    "Although the housing market is relatively stable in Russia, the country’s volatile economy makes forecasting prices as a function of apartment characteristics a unique challenge. Complex interactions between housing features such as number of bedrooms and location are enough to make pricing predictions complicated. Adding an unstable economy to the mix means Sberbank and their customers need more than simple regression models in their arsenal.\n",
    "\n",
    "In this competition, Sberbank is challenging Kagglers to develop algorithms which use a broad spectrum of features to predict realty prices. Competitors will rely on a rich dataset that includes housing data and macroeconomic patterns. An accurate forecasting model will allow Sberbank to provide more certainty to their customers in an uncertain economy."
   ]
  },
  {
   "cell_type": "markdown",
   "id": "72a6e1c4",
   "metadata": {
    "papermill": {
     "duration": 0.014034,
     "end_time": "2022-10-03T12:52:16.329992",
     "exception": false,
     "start_time": "2022-10-03T12:52:16.315958",
     "status": "completed"
    },
    "tags": []
   },
   "source": [
    "## Setting up"
   ]
  },
  {
   "cell_type": "code",
   "execution_count": 2,
   "id": "d3895f59",
   "metadata": {
    "execution": {
     "iopub.execute_input": "2022-10-03T12:52:16.360113Z",
     "iopub.status.busy": "2022-10-03T12:52:16.359679Z",
     "iopub.status.idle": "2022-10-03T12:53:27.974814Z",
     "shell.execute_reply": "2022-10-03T12:53:27.973475Z"
    },
    "papermill": {
     "duration": 71.633642,
     "end_time": "2022-10-03T12:53:27.977883",
     "exception": false,
     "start_time": "2022-10-03T12:52:16.344241",
     "status": "completed"
    },
    "tags": []
   },
   "outputs": [
    {
     "name": "stdout",
     "output_type": "stream",
     "text": [
      "\u001b[33mWARNING: Running pip as the 'root' user can result in broken permissions and conflicting behaviour with the system package manager. It is recommended to use a virtual environment instead: https://pip.pypa.io/warnings/venv\u001b[0m\u001b[33m\r\n",
      "\u001b[0m\u001b[33mWARNING: Running pip as the 'root' user can result in broken permissions and conflicting behaviour with the system package manager. It is recommended to use a virtual environment instead: https://pip.pypa.io/warnings/venv\u001b[0m\u001b[33m\r\n",
      "\u001b[0m\u001b[33mWARNING: Running pip as the 'root' user can result in broken permissions and conflicting behaviour with the system package manager. It is recommended to use a virtual environment instead: https://pip.pypa.io/warnings/venv\u001b[0m\u001b[33m\r\n",
      "\u001b[0m\u001b[33mWARNING: Running pip as the 'root' user can result in broken permissions and conflicting behaviour with the system package manager. It is recommended to use a virtual environment instead: https://pip.pypa.io/warnings/venv\u001b[0m\u001b[33m\r\n",
      "\u001b[0m\u001b[31mERROR: pip's dependency resolver does not currently take into account all the packages that are installed. This behaviour is the source of the following dependency conflicts.\r\n",
      "pandas-profiling 3.1.0 requires markupsafe~=2.0.1, but you have markupsafe 2.1.1 which is incompatible.\u001b[0m\u001b[31m\r\n",
      "\u001b[0m\u001b[33mWARNING: Running pip as the 'root' user can result in broken permissions and conflicting behaviour with the system package manager. It is recommended to use a virtual environment instead: https://pip.pypa.io/warnings/venv\u001b[0m\u001b[33m\r\n",
      "\u001b[0m\u001b[33mWARNING: Running pip as the 'root' user can result in broken permissions and conflicting behaviour with the system package manager. It is recommended to use a virtual environment instead: https://pip.pypa.io/warnings/venv\u001b[0m\u001b[33m\r\n",
      "\u001b[0m"
     ]
    }
   ],
   "source": [
    "!pip install opendatasets --upgrade --quiet\n",
    "!pip install scikit-learn --upgrade --quiet\n",
    "!pip install pandas --upgrade --quiet\n",
    "!pip install matplotlib --upgrade --quiet\n",
    "!pip install seaborn --upgrade --quiet\n",
    "!pip install numpy --upgrade --quiet"
   ]
  },
  {
   "cell_type": "code",
   "execution_count": 3,
   "id": "0d2a5ecf",
   "metadata": {
    "execution": {
     "iopub.execute_input": "2022-10-03T12:53:28.009863Z",
     "iopub.status.busy": "2022-10-03T12:53:28.009415Z",
     "iopub.status.idle": "2022-10-03T12:53:29.107130Z",
     "shell.execute_reply": "2022-10-03T12:53:29.105943Z"
    },
    "papermill": {
     "duration": 1.116776,
     "end_time": "2022-10-03T12:53:29.109973",
     "exception": false,
     "start_time": "2022-10-03T12:53:27.993197",
     "status": "completed"
    },
    "tags": []
   },
   "outputs": [],
   "source": [
    "import opendatasets as od\n",
    "import matplotlib.pyplot as plt\n",
    "import seaborn as sns\n",
    "import pandas as pd\n",
    "import numpy as np\n",
    "import zipfile"
   ]
  },
  {
   "cell_type": "markdown",
   "id": "91585076",
   "metadata": {
    "papermill": {
     "duration": 0.014787,
     "end_time": "2022-10-03T12:53:29.140762",
     "exception": false,
     "start_time": "2022-10-03T12:53:29.125975",
     "status": "completed"
    },
    "tags": []
   },
   "source": [
    "## Getting Dataset"
   ]
  },
  {
   "cell_type": "code",
   "execution_count": 4,
   "id": "8127dc1c",
   "metadata": {
    "execution": {
     "iopub.execute_input": "2022-10-03T12:53:29.173031Z",
     "iopub.status.busy": "2022-10-03T12:53:29.171803Z",
     "iopub.status.idle": "2022-10-03T12:53:29.286535Z",
     "shell.execute_reply": "2022-10-03T12:53:29.284925Z"
    },
    "papermill": {
     "duration": 0.132949,
     "end_time": "2022-10-03T12:53:29.288742",
     "exception": true,
     "start_time": "2022-10-03T12:53:29.155793",
     "status": "failed"
    },
    "tags": []
   },
   "outputs": [
    {
     "ename": "FileNotFoundError",
     "evalue": "[Errno 2] No such file or directory: '.../input/sberbank-realty-data-2/macro.csv.zip'",
     "output_type": "error",
     "traceback": [
      "\u001b[0;31m---------------------------------------------------------------------------\u001b[0m",
      "\u001b[0;31mFileNotFoundError\u001b[0m                         Traceback (most recent call last)",
      "\u001b[0;32m/tmp/ipykernel_19/1393039844.py\u001b[0m in \u001b[0;36m<module>\u001b[0;34m\u001b[0m\n\u001b[1;32m      1\u001b[0m \u001b[0;32mfor\u001b[0m \u001b[0mzf\u001b[0m \u001b[0;32min\u001b[0m \u001b[0;34m[\u001b[0m\u001b[0;34m'macro.csv.zip'\u001b[0m\u001b[0;34m,\u001b[0m\u001b[0;34m'train.csv.zip'\u001b[0m\u001b[0;34m,\u001b[0m\u001b[0;34m'test.csv.zip'\u001b[0m\u001b[0;34m,\u001b[0m \u001b[0;34m'sample_submission.csv.zip'\u001b[0m\u001b[0;34m]\u001b[0m\u001b[0;34m:\u001b[0m\u001b[0;34m\u001b[0m\u001b[0;34m\u001b[0m\u001b[0m\n\u001b[0;32m----> 2\u001b[0;31m     \u001b[0minput_file\u001b[0m\u001b[0;34m=\u001b[0m\u001b[0mopen\u001b[0m\u001b[0;34m(\u001b[0m\u001b[0;34m'.../input/sberbank-realty-data-2/'\u001b[0m\u001b[0;34m+\u001b[0m\u001b[0mzf\u001b[0m\u001b[0;34m,\u001b[0m\u001b[0;34m'rb'\u001b[0m\u001b[0;34m)\u001b[0m\u001b[0;34m\u001b[0m\u001b[0;34m\u001b[0m\u001b[0m\n\u001b[0m\u001b[1;32m      3\u001b[0m     \u001b[0moutput_file\u001b[0m\u001b[0;34m=\u001b[0m\u001b[0mopen\u001b[0m\u001b[0;34m(\u001b[0m\u001b[0mzf\u001b[0m\u001b[0;34m,\u001b[0m\u001b[0;34m'wb'\u001b[0m\u001b[0;34m)\u001b[0m\u001b[0;34m\u001b[0m\u001b[0;34m\u001b[0m\u001b[0m\n\u001b[1;32m      4\u001b[0m     \u001b[0moutput_file\u001b[0m\u001b[0;34m.\u001b[0m\u001b[0mwrite\u001b[0m\u001b[0;34m(\u001b[0m\u001b[0minput_file\u001b[0m\u001b[0;34m.\u001b[0m\u001b[0mread\u001b[0m\u001b[0;34m(\u001b[0m\u001b[0;34m)\u001b[0m\u001b[0;34m)\u001b[0m\u001b[0;34m\u001b[0m\u001b[0;34m\u001b[0m\u001b[0m\n\u001b[1;32m      5\u001b[0m     \u001b[0moutput_file\u001b[0m\u001b[0;34m.\u001b[0m\u001b[0mclose\u001b[0m\u001b[0;34m(\u001b[0m\u001b[0;34m)\u001b[0m\u001b[0;34m;\u001b[0m \u001b[0minput_file\u001b[0m\u001b[0;34m.\u001b[0m\u001b[0mclose\u001b[0m\u001b[0;34m(\u001b[0m\u001b[0;34m)\u001b[0m\u001b[0;34m\u001b[0m\u001b[0;34m\u001b[0m\u001b[0m\n",
      "\u001b[0;31mFileNotFoundError\u001b[0m: [Errno 2] No such file or directory: '.../input/sberbank-realty-data-2/macro.csv.zip'"
     ]
    }
   ],
   "source": [
    "for zf in ['macro.csv.zip','train.csv.zip','test.csv.zip', 'sample_submission.csv.zip']:\n",
    "    input_file=open('.../input/sberbank-realty-data-2/'+zf,'rb')\n",
    "    output_file=open(zf,'wb')\n",
    "    output_file.write(input_file.read())\n",
    "    output_file.close(); input_file.close()\n",
    "    zipf=zipfile.ZipFile(zf,'r')\n",
    "    zipf.extractall(''); zipf.close()\n",
    "macro=pd.read_csv('macro.csv')\n",
    "train=pd.read_csv('train.csv')\n",
    "test=pd.read_csv('test.csv')"
   ]
  },
  {
   "cell_type": "code",
   "execution_count": null,
   "id": "b8ee4622",
   "metadata": {
    "execution": {
     "iopub.status.busy": "2022-09-30T12:44:34.499959Z",
     "iopub.status.idle": "2022-09-30T12:44:34.500655Z",
     "shell.execute_reply": "2022-09-30T12:44:34.500457Z",
     "shell.execute_reply.started": "2022-09-30T12:44:34.500434Z"
    },
    "papermill": {
     "duration": null,
     "end_time": null,
     "exception": null,
     "start_time": null,
     "status": "pending"
    },
    "tags": []
   },
   "outputs": [],
   "source": [
    "train.info()"
   ]
  },
  {
   "cell_type": "code",
   "execution_count": null,
   "id": "ee0957f1",
   "metadata": {
    "execution": {
     "iopub.status.busy": "2022-09-30T12:44:34.503125Z",
     "iopub.status.idle": "2022-09-30T12:44:34.504239Z",
     "shell.execute_reply": "2022-09-30T12:44:34.503929Z",
     "shell.execute_reply.started": "2022-09-30T12:44:34.503896Z"
    },
    "papermill": {
     "duration": null,
     "end_time": null,
     "exception": null,
     "start_time": null,
     "status": "pending"
    },
    "tags": []
   },
   "outputs": [],
   "source": [
    "macro.info()"
   ]
  },
  {
   "cell_type": "code",
   "execution_count": null,
   "id": "3b10cc24",
   "metadata": {
    "execution": {
     "iopub.status.busy": "2022-09-30T12:44:34.505995Z",
     "iopub.status.idle": "2022-09-30T12:44:34.506622Z",
     "shell.execute_reply": "2022-09-30T12:44:34.506354Z",
     "shell.execute_reply.started": "2022-09-30T12:44:34.506321Z"
    },
    "papermill": {
     "duration": null,
     "end_time": null,
     "exception": null,
     "start_time": null,
     "status": "pending"
    },
    "tags": []
   },
   "outputs": [],
   "source": [
    "test.head()"
   ]
  },
  {
   "cell_type": "markdown",
   "id": "e54a9bcc",
   "metadata": {
    "papermill": {
     "duration": null,
     "end_time": null,
     "exception": null,
     "start_time": null,
     "status": "pending"
    },
    "tags": []
   },
   "source": [
    "## Data Preparation"
   ]
  },
  {
   "cell_type": "code",
   "execution_count": null,
   "id": "6ed8d01e",
   "metadata": {
    "execution": {
     "iopub.status.busy": "2022-09-30T12:44:34.508778Z",
     "iopub.status.idle": "2022-09-30T12:44:34.509386Z",
     "shell.execute_reply": "2022-09-30T12:44:34.509093Z",
     "shell.execute_reply.started": "2022-09-30T12:44:34.509065Z"
    },
    "papermill": {
     "duration": null,
     "end_time": null,
     "exception": null,
     "start_time": null,
     "status": "pending"
    },
    "tags": []
   },
   "outputs": [],
   "source": [
    "# Creating a list of input columns\n",
    "input_col=list(train.columns)[1:-1]\n",
    "\n",
    "# Creating a list of target column\n",
    "target_col='price_doc'\n",
    "\n",
    "inputs=train[input_col].copy()\n",
    "\n",
    "target=train[target_col]\n",
    "\n",
    "# Dividing data into numeric and categorical values\n",
    "numeric_cols=inputs.select_dtypes(include=['int64','float64']).columns.tolist()\n",
    "categorical_cols=inputs.select_dtypes(include=['object']).columns.tolist()\n",
    "\n"
   ]
  },
  {
   "cell_type": "markdown",
   "id": "9f1bfd24",
   "metadata": {
    "papermill": {
     "duration": null,
     "end_time": null,
     "exception": null,
     "start_time": null,
     "status": "pending"
    },
    "tags": []
   },
   "source": [
    "## Data Cleaning"
   ]
  },
  {
   "cell_type": "code",
   "execution_count": null,
   "id": "36a0f8ca",
   "metadata": {
    "execution": {
     "iopub.status.busy": "2022-09-30T12:44:34.510997Z",
     "iopub.status.idle": "2022-09-30T12:44:34.511589Z",
     "shell.execute_reply": "2022-09-30T12:44:34.511330Z",
     "shell.execute_reply.started": "2022-09-30T12:44:34.511299Z"
    },
    "papermill": {
     "duration": null,
     "end_time": null,
     "exception": null,
     "start_time": null,
     "status": "pending"
    },
    "tags": []
   },
   "outputs": [],
   "source": [
    "# For train inputs\n",
    "missing_counts = inputs[numeric_cols].isna().sum().sort_values(ascending=False)\n",
    "missing_counts[missing_counts>0]"
   ]
  },
  {
   "cell_type": "code",
   "execution_count": null,
   "id": "6c10e891",
   "metadata": {
    "execution": {
     "iopub.status.busy": "2022-09-30T12:44:34.513351Z",
     "iopub.status.idle": "2022-09-30T12:44:34.513934Z",
     "shell.execute_reply": "2022-09-30T12:44:34.513651Z",
     "shell.execute_reply.started": "2022-09-30T12:44:34.513624Z"
    },
    "papermill": {
     "duration": null,
     "end_time": null,
     "exception": null,
     "start_time": null,
     "status": "pending"
    },
    "tags": []
   },
   "outputs": [],
   "source": [
    "from sklearn.impute import SimpleImputer\n",
    "imputer=SimpleImputer(strategy='mean').fit(train[numeric_cols])\n",
    "inputs[numeric_cols]=imputer.transform(inputs[numeric_cols])\n",
    "\n",
    "inputs"
   ]
  },
  {
   "cell_type": "code",
   "execution_count": null,
   "id": "8b637050",
   "metadata": {
    "execution": {
     "iopub.status.busy": "2022-09-30T12:44:34.515682Z",
     "iopub.status.idle": "2022-09-30T12:44:34.516287Z",
     "shell.execute_reply": "2022-09-30T12:44:34.516003Z",
     "shell.execute_reply.started": "2022-09-30T12:44:34.515973Z"
    },
    "papermill": {
     "duration": null,
     "end_time": null,
     "exception": null,
     "start_time": null,
     "status": "pending"
    },
    "tags": []
   },
   "outputs": [],
   "source": [
    "# Drop build_year and timestamp\n",
    "inputs.drop('build_year', inplace=True, axis=1)\n",
    "inputs.drop('timestamp', inplace=True, axis=1)\n",
    "\n",
    "numeric_cols.remove('build_year')\n",
    "categorical_cols.remove('timestamp')\n",
    "\n",
    "missing_counts = inputs[numeric_cols].isna().sum().sort_values(ascending=False)"
   ]
  },
  {
   "cell_type": "markdown",
   "id": "2a0b1d42",
   "metadata": {
    "papermill": {
     "duration": null,
     "end_time": null,
     "exception": null,
     "start_time": null,
     "status": "pending"
    },
    "tags": []
   },
   "source": [
    "## Scale numerical values"
   ]
  },
  {
   "cell_type": "code",
   "execution_count": null,
   "id": "bc3aa4bd",
   "metadata": {
    "execution": {
     "iopub.status.busy": "2022-09-30T12:44:34.518050Z",
     "iopub.status.idle": "2022-09-30T12:44:34.518635Z",
     "shell.execute_reply": "2022-09-30T12:44:34.518376Z",
     "shell.execute_reply.started": "2022-09-30T12:44:34.518348Z"
    },
    "papermill": {
     "duration": null,
     "end_time": null,
     "exception": null,
     "start_time": null,
     "status": "pending"
    },
    "tags": []
   },
   "outputs": [],
   "source": [
    "inputs[numeric_cols].describe().loc[['min', 'max']]"
   ]
  },
  {
   "cell_type": "code",
   "execution_count": null,
   "id": "f87fae64",
   "metadata": {
    "execution": {
     "iopub.status.busy": "2022-09-30T12:44:34.520186Z",
     "iopub.status.idle": "2022-09-30T12:44:34.520800Z",
     "shell.execute_reply": "2022-09-30T12:44:34.520517Z",
     "shell.execute_reply.started": "2022-09-30T12:44:34.520489Z"
    },
    "papermill": {
     "duration": null,
     "end_time": null,
     "exception": null,
     "start_time": null,
     "status": "pending"
    },
    "tags": []
   },
   "outputs": [],
   "source": [
    "from sklearn.preprocessing import MinMaxScaler\n",
    "# Create the scaler\n",
    "scaler = MinMaxScaler()\n",
    "# Fit the scaler to the numeric columns\n",
    "scaler.fit(train[numeric_cols])\n",
    "# Transform and replace the numeric columns\n",
    "inputs[numeric_cols] = scaler.transform(inputs[numeric_cols])"
   ]
  },
  {
   "cell_type": "code",
   "execution_count": null,
   "id": "97f9d95c",
   "metadata": {
    "execution": {
     "iopub.status.busy": "2022-09-30T12:44:34.524591Z",
     "iopub.status.idle": "2022-09-30T12:44:34.525028Z",
     "shell.execute_reply": "2022-09-30T12:44:34.524850Z",
     "shell.execute_reply.started": "2022-09-30T12:44:34.524830Z"
    },
    "papermill": {
     "duration": null,
     "end_time": null,
     "exception": null,
     "start_time": null,
     "status": "pending"
    },
    "tags": []
   },
   "outputs": [],
   "source": [
    "inputs[numeric_cols].describe().loc[['min', 'max']]"
   ]
  },
  {
   "cell_type": "markdown",
   "id": "07856bef",
   "metadata": {
    "papermill": {
     "duration": null,
     "end_time": null,
     "exception": null,
     "start_time": null,
     "status": "pending"
    },
    "tags": []
   },
   "source": [
    "## Encode categorical values"
   ]
  },
  {
   "cell_type": "code",
   "execution_count": null,
   "id": "5eff58fc",
   "metadata": {
    "execution": {
     "iopub.status.busy": "2022-09-30T12:44:34.525901Z",
     "iopub.status.idle": "2022-09-30T12:44:34.526358Z",
     "shell.execute_reply": "2022-09-30T12:44:34.526134Z",
     "shell.execute_reply.started": "2022-09-30T12:44:34.526115Z"
    },
    "papermill": {
     "duration": null,
     "end_time": null,
     "exception": null,
     "start_time": null,
     "status": "pending"
    },
    "tags": []
   },
   "outputs": [],
   "source": [
    "inputs[categorical_cols].nunique().sort_values(ascending=False)"
   ]
  },
  {
   "cell_type": "code",
   "execution_count": null,
   "id": "d29a2e43",
   "metadata": {
    "execution": {
     "iopub.status.busy": "2022-09-30T12:44:34.527979Z",
     "iopub.status.idle": "2022-09-30T12:44:34.528725Z",
     "shell.execute_reply": "2022-09-30T12:44:34.528538Z",
     "shell.execute_reply.started": "2022-09-30T12:44:34.528515Z"
    },
    "papermill": {
     "duration": null,
     "end_time": null,
     "exception": null,
     "start_time": null,
     "status": "pending"
    },
    "tags": []
   },
   "outputs": [],
   "source": [
    "from sklearn.preprocessing import OneHotEncoder\n",
    "#Creating the encoder\n",
    "encoder = OneHotEncoder(sparse=False, handle_unknown='ignore')\n",
    "#Fitting the encoder to the categorical colums\n",
    "encoder.fit(train[categorical_cols])\n",
    "#Generating column names for each category\n",
    "encoded_cols = list(encoder.get_feature_names(categorical_cols))\n",
    "# Transforming and adding new one-hot category columns\n",
    "inputs[encoded_cols] = encoder.transform(train[categorical_cols])"
   ]
  },
  {
   "cell_type": "code",
   "execution_count": null,
   "id": "5f0742fe",
   "metadata": {
    "execution": {
     "iopub.status.busy": "2022-09-30T12:44:34.529852Z",
     "iopub.status.idle": "2022-09-30T12:44:34.530537Z",
     "shell.execute_reply": "2022-09-30T12:44:34.530352Z",
     "shell.execute_reply.started": "2022-09-30T12:44:34.530330Z"
    },
    "papermill": {
     "duration": null,
     "end_time": null,
     "exception": null,
     "start_time": null,
     "status": "pending"
    },
    "tags": []
   },
   "outputs": [],
   "source": [
    "inputs"
   ]
  },
  {
   "cell_type": "markdown",
   "id": "bfe56096",
   "metadata": {
    "papermill": {
     "duration": null,
     "end_time": null,
     "exception": null,
     "start_time": null,
     "status": "pending"
    },
    "tags": []
   },
   "source": [
    "# Train and validate models"
   ]
  },
  {
   "cell_type": "code",
   "execution_count": null,
   "id": "31db083d",
   "metadata": {
    "execution": {
     "iopub.status.busy": "2022-09-30T12:44:34.531719Z",
     "iopub.status.idle": "2022-09-30T12:44:34.532116Z",
     "shell.execute_reply": "2022-09-30T12:44:34.531947Z",
     "shell.execute_reply.started": "2022-09-30T12:44:34.531928Z"
    },
    "papermill": {
     "duration": null,
     "end_time": null,
     "exception": null,
     "start_time": null,
     "status": "pending"
    },
    "tags": []
   },
   "outputs": [],
   "source": [
    "from sklearn.model_selection import train_test_split"
   ]
  },
  {
   "cell_type": "code",
   "execution_count": null,
   "id": "a2342302",
   "metadata": {
    "execution": {
     "iopub.status.busy": "2022-09-30T12:44:34.533765Z",
     "iopub.status.idle": "2022-09-30T12:44:34.534266Z",
     "shell.execute_reply": "2022-09-30T12:44:34.534069Z",
     "shell.execute_reply.started": "2022-09-30T12:44:34.534049Z"
    },
    "papermill": {
     "duration": null,
     "end_time": null,
     "exception": null,
     "start_time": null,
     "status": "pending"
    },
    "tags": []
   },
   "outputs": [],
   "source": [
    "train_inputs, val_inputs, train_targets, val_targets = train_test_split(inputs[numeric_cols + encoded_cols], \n",
    "                                                                        target, \n",
    "                                                                        test_size=0.25, \n",
    "                                                                        random_state=31)"
   ]
  },
  {
   "cell_type": "code",
   "execution_count": null,
   "id": "2ebbf6cf",
   "metadata": {
    "execution": {
     "iopub.status.busy": "2022-09-30T12:44:34.535397Z",
     "iopub.status.idle": "2022-09-30T12:44:34.535784Z",
     "shell.execute_reply": "2022-09-30T12:44:34.535614Z",
     "shell.execute_reply.started": "2022-09-30T12:44:34.535596Z"
    },
    "papermill": {
     "duration": null,
     "end_time": null,
     "exception": null,
     "start_time": null,
     "status": "pending"
    },
    "tags": []
   },
   "outputs": [],
   "source": [
    "train_inputs.head()"
   ]
  },
  {
   "cell_type": "code",
   "execution_count": null,
   "id": "5a25986d",
   "metadata": {
    "execution": {
     "iopub.status.busy": "2022-09-30T12:44:34.536953Z",
     "iopub.status.idle": "2022-09-30T12:44:34.537757Z",
     "shell.execute_reply": "2022-09-30T12:44:34.537574Z",
     "shell.execute_reply.started": "2022-09-30T12:44:34.537552Z"
    },
    "papermill": {
     "duration": null,
     "end_time": null,
     "exception": null,
     "start_time": null,
     "status": "pending"
    },
    "tags": []
   },
   "outputs": [],
   "source": [
    "val_inputs.head()"
   ]
  },
  {
   "cell_type": "code",
   "execution_count": null,
   "id": "440e7f65",
   "metadata": {
    "execution": {
     "iopub.status.busy": "2022-09-30T12:44:34.539074Z",
     "iopub.status.idle": "2022-09-30T12:44:34.539469Z",
     "shell.execute_reply": "2022-09-30T12:44:34.539295Z",
     "shell.execute_reply.started": "2022-09-30T12:44:34.539276Z"
    },
    "papermill": {
     "duration": null,
     "end_time": null,
     "exception": null,
     "start_time": null,
     "status": "pending"
    },
    "tags": []
   },
   "outputs": [],
   "source": [
    "train_targets.head()"
   ]
  },
  {
   "cell_type": "code",
   "execution_count": null,
   "id": "3106365b",
   "metadata": {
    "execution": {
     "iopub.status.busy": "2022-09-30T12:44:34.540914Z",
     "iopub.status.idle": "2022-09-30T12:44:34.541305Z",
     "shell.execute_reply": "2022-09-30T12:44:34.541125Z",
     "shell.execute_reply.started": "2022-09-30T12:44:34.541107Z"
    },
    "papermill": {
     "duration": null,
     "end_time": null,
     "exception": null,
     "start_time": null,
     "status": "pending"
    },
    "tags": []
   },
   "outputs": [],
   "source": [
    "val_targets.head()"
   ]
  },
  {
   "cell_type": "markdown",
   "id": "e95a3bdf",
   "metadata": {
    "papermill": {
     "duration": null,
     "end_time": null,
     "exception": null,
     "start_time": null,
     "status": "pending"
    },
    "tags": []
   },
   "source": [
    "## Linear regression"
   ]
  },
  {
   "cell_type": "code",
   "execution_count": null,
   "id": "2be9fe82",
   "metadata": {
    "execution": {
     "iopub.status.busy": "2022-09-30T12:44:34.542441Z",
     "iopub.status.idle": "2022-09-30T12:44:34.542809Z",
     "shell.execute_reply": "2022-09-30T12:44:34.542645Z",
     "shell.execute_reply.started": "2022-09-30T12:44:34.542627Z"
    },
    "papermill": {
     "duration": null,
     "end_time": null,
     "exception": null,
     "start_time": null,
     "status": "pending"
    },
    "tags": []
   },
   "outputs": [],
   "source": [
    "from sklearn.linear_model import Ridge\n",
    "# Create the model\n",
    "model = model = Ridge()\n",
    "# Fit the model using inputs and targets\n",
    "model.fit(train_inputs[numeric_cols + encoded_cols], train_targets)"
   ]
  },
  {
   "cell_type": "markdown",
   "id": "51059de2",
   "metadata": {
    "papermill": {
     "duration": null,
     "end_time": null,
     "exception": null,
     "start_time": null,
     "status": "pending"
    },
    "tags": []
   },
   "source": [
    "## Model evaluation"
   ]
  },
  {
   "cell_type": "code",
   "execution_count": null,
   "id": "759a06e6",
   "metadata": {
    "execution": {
     "iopub.status.busy": "2022-09-30T12:44:34.543956Z",
     "iopub.status.idle": "2022-09-30T12:44:34.544356Z",
     "shell.execute_reply": "2022-09-30T12:44:34.544179Z",
     "shell.execute_reply.started": "2022-09-30T12:44:34.544145Z"
    },
    "papermill": {
     "duration": null,
     "end_time": null,
     "exception": null,
     "start_time": null,
     "status": "pending"
    },
    "tags": []
   },
   "outputs": [],
   "source": [
    "from sklearn.metrics import mean_squared_error\n",
    "\n",
    "X_train = train_inputs[numeric_cols + encoded_cols]\n",
    "X_val = val_inputs[numeric_cols + encoded_cols]\n",
    "\n",
    "train_preds = model.predict(X_train)\n",
    "train_preds"
   ]
  },
  {
   "cell_type": "code",
   "execution_count": null,
   "id": "b9ffa481",
   "metadata": {
    "execution": {
     "iopub.status.busy": "2022-09-30T12:44:34.545346Z",
     "iopub.status.idle": "2022-09-30T12:44:34.545740Z",
     "shell.execute_reply": "2022-09-30T12:44:34.545569Z",
     "shell.execute_reply.started": "2022-09-30T12:44:34.545550Z"
    },
    "papermill": {
     "duration": null,
     "end_time": null,
     "exception": null,
     "start_time": null,
     "status": "pending"
    },
    "tags": []
   },
   "outputs": [],
   "source": [
    "print('The RMSE loss for the training set is ₽ {}.'.format(mean_squared_error(train_targets, train_preds, squared=False)))"
   ]
  },
  {
   "cell_type": "code",
   "execution_count": null,
   "id": "a0b6e6e8",
   "metadata": {
    "execution": {
     "iopub.status.busy": "2022-09-30T12:44:34.547095Z",
     "iopub.status.idle": "2022-09-30T12:44:34.547501Z",
     "shell.execute_reply": "2022-09-30T12:44:34.547323Z",
     "shell.execute_reply.started": "2022-09-30T12:44:34.547305Z"
    },
    "papermill": {
     "duration": null,
     "end_time": null,
     "exception": null,
     "start_time": null,
     "status": "pending"
    },
    "tags": []
   },
   "outputs": [],
   "source": [
    "val_preds = model.predict(X_val)\n",
    "val_preds"
   ]
  },
  {
   "cell_type": "code",
   "execution_count": null,
   "id": "f2cbf375",
   "metadata": {
    "execution": {
     "iopub.status.busy": "2022-09-30T12:44:34.548677Z",
     "iopub.status.idle": "2022-09-30T12:44:34.549071Z",
     "shell.execute_reply": "2022-09-30T12:44:34.548890Z",
     "shell.execute_reply.started": "2022-09-30T12:44:34.548872Z"
    },
    "papermill": {
     "duration": null,
     "end_time": null,
     "exception": null,
     "start_time": null,
     "status": "pending"
    },
    "tags": []
   },
   "outputs": [],
   "source": [
    "print('The RMSE loss for the valication set is ₽ {}.'.format(mean_squared_error(val_targets, val_preds, squared=False)))"
   ]
  },
  {
   "cell_type": "markdown",
   "id": "d126f483",
   "metadata": {
    "papermill": {
     "duration": null,
     "end_time": null,
     "exception": null,
     "start_time": null,
     "status": "pending"
    },
    "tags": []
   },
   "source": [
    "## Importance of features"
   ]
  },
  {
   "cell_type": "code",
   "execution_count": null,
   "id": "fe9db720",
   "metadata": {
    "execution": {
     "iopub.status.busy": "2022-09-30T12:44:34.551266Z",
     "iopub.status.idle": "2022-09-30T12:44:34.551673Z",
     "shell.execute_reply": "2022-09-30T12:44:34.551499Z",
     "shell.execute_reply.started": "2022-09-30T12:44:34.551480Z"
    },
    "papermill": {
     "duration": null,
     "end_time": null,
     "exception": null,
     "start_time": null,
     "status": "pending"
    },
    "tags": []
   },
   "outputs": [],
   "source": [
    "weights=model.coef_\n",
    "\n",
    "weights_df = pd.DataFrame({\n",
    "    'feature': train_inputs.columns,\n",
    "    'weight': weights\n",
    "}).sort_values('weight', ascending=False)\n",
    "\n",
    "plt.title('Feature Importance')\n",
    "sns.barplot(data=weights_df.head(10), x='weight', y='feature')"
   ]
  },
  {
   "cell_type": "markdown",
   "id": "cebd7a2f",
   "metadata": {
    "papermill": {
     "duration": null,
     "end_time": null,
     "exception": null,
     "start_time": null,
     "status": "pending"
    },
    "tags": []
   },
   "source": [
    "## Test predictions"
   ]
  },
  {
   "cell_type": "code",
   "execution_count": null,
   "id": "a1c33694",
   "metadata": {
    "execution": {
     "iopub.status.busy": "2022-09-30T12:44:34.552408Z",
     "iopub.status.idle": "2022-09-30T12:44:34.552805Z",
     "shell.execute_reply": "2022-09-30T12:44:34.552634Z",
     "shell.execute_reply.started": "2022-09-30T12:44:34.552615Z"
    },
    "papermill": {
     "duration": null,
     "end_time": null,
     "exception": null,
     "start_time": null,
     "status": "pending"
    },
    "tags": []
   },
   "outputs": [],
   "source": [
    "test_input_cols = list(test.columns)[1:]\n",
    "\n",
    "test_inputs_df = test[test_input_cols].copy()\n",
    "test_numeric_cols = test_inputs_df.select_dtypes(include=['int64', 'float64']).columns.tolist()\n",
    "test_categorical_cols =  test_inputs_df.select_dtypes(include=['object']).columns.tolist()\n",
    "\n",
    "missing_counts = test_inputs_df[test_numeric_cols].isna().sum().sort_values(ascending=False)\n",
    "missing_counts"
   ]
  },
  {
   "cell_type": "code",
   "execution_count": null,
   "id": "5fc10252",
   "metadata": {
    "execution": {
     "iopub.status.busy": "2022-09-30T12:44:34.553838Z",
     "iopub.status.idle": "2022-09-30T12:44:34.554286Z",
     "shell.execute_reply": "2022-09-30T12:44:34.554069Z",
     "shell.execute_reply.started": "2022-09-30T12:44:34.554050Z"
    },
    "papermill": {
     "duration": null,
     "end_time": null,
     "exception": null,
     "start_time": null,
     "status": "pending"
    },
    "tags": []
   },
   "outputs": [],
   "source": [
    "test_imputer = SimpleImputer(strategy = 'mean').fit(test[test_numeric_cols])\n",
    "test_inputs_df[test_numeric_cols] = test_imputer.transform(test_inputs_df[test_numeric_cols])\n",
    "test_inputs_df.drop('build_year', inplace=True, axis=1)\n",
    "test_inputs_df.drop('timestamp', inplace=True, axis=1)\n",
    "test_numeric_cols.remove('build_year')\n",
    "test_categorical_cols.remove('timestamp')\n",
    "\n",
    "scaler.fit(test[test_numeric_cols])\n",
    "test_inputs_df[test_numeric_cols] = scaler.transform(test_inputs_df[test_numeric_cols])\n",
    "test_inputs_df[test_numeric_cols].describe().loc[['min', 'max']]"
   ]
  },
  {
   "cell_type": "code",
   "execution_count": null,
   "id": "3412a919",
   "metadata": {
    "execution": {
     "iopub.status.busy": "2022-09-30T12:44:34.555247Z",
     "iopub.status.idle": "2022-09-30T12:44:34.555621Z",
     "shell.execute_reply": "2022-09-30T12:44:34.555454Z",
     "shell.execute_reply.started": "2022-09-30T12:44:34.555436Z"
    },
    "papermill": {
     "duration": null,
     "end_time": null,
     "exception": null,
     "start_time": null,
     "status": "pending"
    },
    "tags": []
   },
   "outputs": [],
   "source": [
    "encoder.fit(test[test_categorical_cols])\n",
    "test_encoded_cols = list(encoder.get_feature_names(test_categorical_cols))\n",
    "test_inputs_df[test_encoded_cols] = encoder.transform(test[test_categorical_cols])"
   ]
  },
  {
   "cell_type": "code",
   "execution_count": null,
   "id": "d5748d4e",
   "metadata": {
    "execution": {
     "iopub.status.busy": "2022-09-30T12:44:34.560710Z",
     "iopub.status.idle": "2022-09-30T12:44:34.561518Z",
     "shell.execute_reply": "2022-09-30T12:44:34.561094Z",
     "shell.execute_reply.started": "2022-09-30T12:44:34.561061Z"
    },
    "papermill": {
     "duration": null,
     "end_time": null,
     "exception": null,
     "start_time": null,
     "status": "pending"
    },
    "tags": []
   },
   "outputs": [],
   "source": [
    "X_test = test_inputs_df[test_numeric_cols + test_encoded_cols]"
   ]
  },
  {
   "cell_type": "code",
   "execution_count": null,
   "id": "f25e1d9d",
   "metadata": {
    "execution": {
     "iopub.status.busy": "2022-09-30T12:44:34.563112Z",
     "iopub.status.idle": "2022-09-30T12:44:34.563741Z",
     "shell.execute_reply": "2022-09-30T12:44:34.563476Z",
     "shell.execute_reply.started": "2022-09-30T12:44:34.563445Z"
    },
    "papermill": {
     "duration": null,
     "end_time": null,
     "exception": null,
     "start_time": null,
     "status": "pending"
    },
    "tags": []
   },
   "outputs": [],
   "source": [
    "test_preds = model.predict(X_test)"
   ]
  },
  {
   "cell_type": "code",
   "execution_count": null,
   "id": "e0c4e80d",
   "metadata": {
    "execution": {
     "iopub.status.busy": "2022-09-30T12:44:34.565314Z",
     "iopub.status.idle": "2022-09-30T12:44:34.565894Z",
     "shell.execute_reply": "2022-09-30T12:44:34.565630Z",
     "shell.execute_reply.started": "2022-09-30T12:44:34.565601Z"
    },
    "papermill": {
     "duration": null,
     "end_time": null,
     "exception": null,
     "start_time": null,
     "status": "pending"
    },
    "tags": []
   },
   "outputs": [],
   "source": [
    "print('The test predictions are ₽ {}.'.format(test_preds))"
   ]
  },
  {
   "cell_type": "markdown",
   "id": "8e778039",
   "metadata": {
    "papermill": {
     "duration": null,
     "end_time": null,
     "exception": null,
     "start_time": null,
     "status": "pending"
    },
    "tags": []
   },
   "source": [
    "## Decision tree"
   ]
  },
  {
   "cell_type": "code",
   "execution_count": null,
   "id": "1e2b44f9",
   "metadata": {
    "execution": {
     "iopub.status.busy": "2022-09-30T12:44:34.567807Z",
     "iopub.status.idle": "2022-09-30T12:44:34.568442Z",
     "shell.execute_reply": "2022-09-30T12:44:34.568144Z",
     "shell.execute_reply.started": "2022-09-30T12:44:34.568114Z"
    },
    "papermill": {
     "duration": null,
     "end_time": null,
     "exception": null,
     "start_time": null,
     "status": "pending"
    },
    "tags": []
   },
   "outputs": [],
   "source": [
    "from sklearn.tree import DecisionTreeRegressor\n",
    "\n",
    "tree = DecisionTreeRegressor(random_state=41)\n",
    "tree.fit(train_inputs, train_targets)\n",
    "tree_train_preds = tree.predict(train_inputs)\n",
    "\n",
    "tree_train_rmse = mean_squared_error(train_targets,tree_train_preds, squared=False )\n",
    "tree_val_preds = tree.predict(val_inputs)\n",
    "tree_val_rmse = mean_squared_error(val_targets,tree_val_preds, squared=False )\n",
    "print('Train RMSE: {}, Validation RMSE: {}'.format(tree_train_rmse, tree_val_rmse))"
   ]
  },
  {
   "cell_type": "markdown",
   "id": "b5337351",
   "metadata": {
    "papermill": {
     "duration": null,
     "end_time": null,
     "exception": null,
     "start_time": null,
     "status": "pending"
    },
    "tags": []
   },
   "source": [
    "## Visualize decision tree"
   ]
  },
  {
   "cell_type": "code",
   "execution_count": null,
   "id": "ee25ece1",
   "metadata": {
    "execution": {
     "iopub.status.busy": "2022-09-30T12:44:34.570096Z",
     "iopub.status.idle": "2022-09-30T12:44:34.570762Z",
     "shell.execute_reply": "2022-09-30T12:44:34.570451Z",
     "shell.execute_reply.started": "2022-09-30T12:44:34.570420Z"
    },
    "papermill": {
     "duration": null,
     "end_time": null,
     "exception": null,
     "start_time": null,
     "status": "pending"
    },
    "tags": []
   },
   "outputs": [],
   "source": [
    "from sklearn.tree import plot_tree, export_text\n",
    "\n",
    "plt.figure(figsize=(30,15))\n",
    "\n",
    "# Visualize the tree graphically using plot_tree\n",
    "plot_tree(tree,max_depth=3,feature_names=train_inputs.columns, filled=False, rounded=True);"
   ]
  },
  {
   "cell_type": "code",
   "execution_count": null,
   "id": "f649cb1c",
   "metadata": {
    "execution": {
     "iopub.status.busy": "2022-09-30T12:44:34.572786Z",
     "iopub.status.idle": "2022-09-30T12:44:34.573475Z",
     "shell.execute_reply": "2022-09-30T12:44:34.573107Z",
     "shell.execute_reply.started": "2022-09-30T12:44:34.573078Z"
    },
    "papermill": {
     "duration": null,
     "end_time": null,
     "exception": null,
     "start_time": null,
     "status": "pending"
    },
    "tags": []
   },
   "outputs": [],
   "source": [
    "# Check feature importance\n",
    "tree_importances = tree.feature_importances_\n",
    "tree_importance_df = pd.DataFrame({\n",
    "    'feature': train_inputs.columns,\n",
    "    'importance': tree_importances\n",
    "}).sort_values('importance', ascending=False)\n",
    "tree_importance_df"
   ]
  },
  {
   "cell_type": "code",
   "execution_count": null,
   "id": "3381d3ee",
   "metadata": {
    "execution": {
     "iopub.status.busy": "2022-09-30T12:44:34.576019Z",
     "iopub.status.idle": "2022-09-30T12:44:34.576467Z",
     "shell.execute_reply": "2022-09-30T12:44:34.576282Z",
     "shell.execute_reply.started": "2022-09-30T12:44:34.576261Z"
    },
    "papermill": {
     "duration": null,
     "end_time": null,
     "exception": null,
     "start_time": null,
     "status": "pending"
    },
    "tags": []
   },
   "outputs": [],
   "source": [
    "plt.title('Decision Tree Feature Importance')\n",
    "sns.barplot(data=tree_importance_df.head(10), x='importance', y='feature');"
   ]
  },
  {
   "cell_type": "markdown",
   "id": "8dd70e2d",
   "metadata": {
    "papermill": {
     "duration": null,
     "end_time": null,
     "exception": null,
     "start_time": null,
     "status": "pending"
    },
    "tags": []
   },
   "source": [
    "## Random forest"
   ]
  },
  {
   "cell_type": "code",
   "execution_count": null,
   "id": "304ebb5a",
   "metadata": {
    "execution": {
     "iopub.status.busy": "2022-09-30T12:44:34.579259Z",
     "iopub.status.idle": "2022-09-30T12:44:34.579682Z",
     "shell.execute_reply": "2022-09-30T12:44:34.579508Z",
     "shell.execute_reply.started": "2022-09-30T12:44:34.579488Z"
    },
    "papermill": {
     "duration": null,
     "end_time": null,
     "exception": null,
     "start_time": null,
     "status": "pending"
    },
    "tags": []
   },
   "outputs": [],
   "source": [
    "from sklearn.ensemble import RandomForestRegressor\n",
    "from sklearn.metrics import accuracy_score, confusion_matrix\n",
    "\n",
    "# Create the model\n",
    "rf1 = RandomForestRegressor(n_jobs=-1, random_state=21)\n",
    "# Fit the model\n",
    "rf1.fit(train_inputs,train_targets)\n",
    "rf1.score(train_inputs,train_targets)"
   ]
  },
  {
   "cell_type": "code",
   "execution_count": null,
   "id": "a45b0840",
   "metadata": {
    "execution": {
     "iopub.status.busy": "2022-09-30T12:44:34.581284Z",
     "iopub.status.idle": "2022-09-30T12:44:34.581706Z",
     "shell.execute_reply": "2022-09-30T12:44:34.581534Z",
     "shell.execute_reply.started": "2022-09-30T12:44:34.581514Z"
    },
    "papermill": {
     "duration": null,
     "end_time": null,
     "exception": null,
     "start_time": null,
     "status": "pending"
    },
    "tags": []
   },
   "outputs": [],
   "source": [
    "rf1_train_preds=rf1.predict(train_inputs)\n",
    "\n",
    "rf1_train_rmse= mean_squared_error(train_targets,rf1_train_preds, squared=False )\n",
    "\n",
    "rf1_val_preds=rf1.predict(val_inputs)\n",
    "\n",
    "rf1_val_rmse= mean_squared_error(val_targets,rf1_val_preds, squared=False )\n",
    "\n",
    "print('Train RMSE: {}, Validation RMSE: {}'.format(rf1_train_rmse, rf1_val_rmse))"
   ]
  },
  {
   "cell_type": "markdown",
   "id": "30432a54",
   "metadata": {
    "papermill": {
     "duration": null,
     "end_time": null,
     "exception": null,
     "start_time": null,
     "status": "pending"
    },
    "tags": []
   },
   "source": [
    "## Tune hyperparameters"
   ]
  },
  {
   "cell_type": "code",
   "execution_count": null,
   "id": "1c00f35a",
   "metadata": {
    "execution": {
     "iopub.status.busy": "2022-09-30T12:44:34.583226Z",
     "iopub.status.idle": "2022-09-30T12:44:34.583630Z",
     "shell.execute_reply": "2022-09-30T12:44:34.583458Z",
     "shell.execute_reply.started": "2022-09-30T12:44:34.583439Z"
    },
    "papermill": {
     "duration": null,
     "end_time": null,
     "exception": null,
     "start_time": null,
     "status": "pending"
    },
    "tags": []
   },
   "outputs": [],
   "source": [
    "def test_params(**params):\n",
    "    model = RandomForestRegressor(random_state=21, n_jobs=-1, **params).fit(train_inputs, train_targets)\n",
    "    train_rmse = mean_squared_error(model.predict(train_inputs), train_targets, squared=False)\n",
    "    val_rmse = mean_squared_error(model.predict(val_inputs), val_targets, squared=False)\n",
    "    return train_rmse, val_rmse"
   ]
  },
  {
   "cell_type": "code",
   "execution_count": null,
   "id": "faab46f9",
   "metadata": {
    "execution": {
     "iopub.status.busy": "2022-09-30T12:44:34.585129Z",
     "iopub.status.idle": "2022-09-30T12:44:34.585859Z",
     "shell.execute_reply": "2022-09-30T12:44:34.585680Z",
     "shell.execute_reply.started": "2022-09-30T12:44:34.585659Z"
    },
    "papermill": {
     "duration": null,
     "end_time": null,
     "exception": null,
     "start_time": null,
     "status": "pending"
    },
    "tags": []
   },
   "outputs": [],
   "source": [
    "def test_param_plot(param_name, param_values):\n",
    "    train_errors, val_errors = [], [] \n",
    "    for value in param_values:\n",
    "        params = {param_name: value}\n",
    "        train_rmse, val_rmse = test_params(**params)\n",
    "        train_errors.append(train_rmse)\n",
    "        val_errors.append(val_rmse)\n",
    "    plt.figure(figsize=(10,6))\n",
    "    plt.title('Overfitting curve: ' + param_name)\n",
    "    plt.plot(param_values, train_errors, 'b-o')\n",
    "    plt.plot(param_values, val_errors, 'r-o')\n",
    "    plt.xlabel(param_name)\n",
    "    plt.ylabel('RMSE')\n",
    "    plt.legend(['Training', 'Validation'])"
   ]
  },
  {
   "cell_type": "code",
   "execution_count": null,
   "id": "5e560d8a",
   "metadata": {
    "execution": {
     "iopub.status.busy": "2022-09-30T12:44:34.587416Z",
     "iopub.status.idle": "2022-09-30T12:44:34.588189Z",
     "shell.execute_reply": "2022-09-30T12:44:34.587979Z",
     "shell.execute_reply.started": "2022-09-30T12:44:34.587957Z"
    },
    "papermill": {
     "duration": null,
     "end_time": null,
     "exception": null,
     "start_time": null,
     "status": "pending"
    },
    "tags": []
   },
   "outputs": [],
   "source": [
    "test_param_plot('n_estimators', [10,20,30,40,50,60,70])"
   ]
  },
  {
   "cell_type": "code",
   "execution_count": null,
   "id": "569ae632",
   "metadata": {
    "execution": {
     "iopub.status.busy": "2022-09-30T12:44:34.589448Z",
     "iopub.status.idle": "2022-09-30T12:44:34.590185Z",
     "shell.execute_reply": "2022-09-30T12:44:34.589992Z",
     "shell.execute_reply.started": "2022-09-30T12:44:34.589970Z"
    },
    "papermill": {
     "duration": null,
     "end_time": null,
     "exception": null,
     "start_time": null,
     "status": "pending"
    },
    "tags": []
   },
   "outputs": [],
   "source": [
    "test_param_plot('max_depth', [ 10, 15, 20, 25, 30])"
   ]
  },
  {
   "cell_type": "markdown",
   "id": "01d43a98",
   "metadata": {
    "papermill": {
     "duration": null,
     "end_time": null,
     "exception": null,
     "start_time": null,
     "status": "pending"
    },
    "tags": []
   },
   "source": [
    "## Predictions"
   ]
  },
  {
   "cell_type": "code",
   "execution_count": null,
   "id": "f2da9e86",
   "metadata": {
    "execution": {
     "iopub.status.busy": "2022-09-30T12:44:34.591439Z",
     "iopub.status.idle": "2022-09-30T12:44:34.592191Z",
     "shell.execute_reply": "2022-09-30T12:44:34.591993Z",
     "shell.execute_reply.started": "2022-09-30T12:44:34.591971Z"
    },
    "papermill": {
     "duration": null,
     "end_time": null,
     "exception": null,
     "start_time": null,
     "status": "pending"
    },
    "tags": []
   },
   "outputs": [],
   "source": [
    "rf2 = RandomForestRegressor(n_jobs=-1, max_depth = 15 , n_estimators = 30, random_state=21)"
   ]
  },
  {
   "cell_type": "code",
   "execution_count": null,
   "id": "d634bbe4",
   "metadata": {
    "execution": {
     "iopub.status.busy": "2022-09-30T12:44:34.593450Z",
     "iopub.status.idle": "2022-09-30T12:44:34.594148Z",
     "shell.execute_reply": "2022-09-30T12:44:34.593934Z",
     "shell.execute_reply.started": "2022-09-30T12:44:34.593912Z"
    },
    "papermill": {
     "duration": null,
     "end_time": null,
     "exception": null,
     "start_time": null,
     "status": "pending"
    },
    "tags": []
   },
   "outputs": [],
   "source": [
    "# Fit the model\n",
    "rf2.fit(train_inputs,train_targets)"
   ]
  },
  {
   "cell_type": "code",
   "execution_count": null,
   "id": "2109973c",
   "metadata": {
    "execution": {
     "iopub.status.busy": "2022-09-30T12:44:34.595401Z",
     "iopub.status.idle": "2022-09-30T12:44:34.596068Z",
     "shell.execute_reply": "2022-09-30T12:44:34.595878Z",
     "shell.execute_reply.started": "2022-09-30T12:44:34.595856Z"
    },
    "papermill": {
     "duration": null,
     "end_time": null,
     "exception": null,
     "start_time": null,
     "status": "pending"
    },
    "tags": []
   },
   "outputs": [],
   "source": [
    "rf2_train_preds = rf2.predict(train_inputs)\n",
    "rf2_train_rmse =  mean_squared_error(train_targets,rf2_train_preds, squared=False )"
   ]
  },
  {
   "cell_type": "code",
   "execution_count": null,
   "id": "2cf8026b",
   "metadata": {
    "execution": {
     "iopub.status.busy": "2022-09-30T12:44:34.597273Z",
     "iopub.status.idle": "2022-09-30T12:44:34.597967Z",
     "shell.execute_reply": "2022-09-30T12:44:34.597775Z",
     "shell.execute_reply.started": "2022-09-30T12:44:34.597752Z"
    },
    "papermill": {
     "duration": null,
     "end_time": null,
     "exception": null,
     "start_time": null,
     "status": "pending"
    },
    "tags": []
   },
   "outputs": [],
   "source": [
    "rf2_val_preds = rf2.predict(val_inputs)\n",
    "rf2_val_rmse= mean_squared_error(val_targets,rf2_val_preds, squared=False )"
   ]
  },
  {
   "cell_type": "code",
   "execution_count": null,
   "id": "d4c0dcd5",
   "metadata": {
    "execution": {
     "iopub.status.busy": "2022-09-30T12:44:34.599195Z",
     "iopub.status.idle": "2022-09-30T12:44:34.599873Z",
     "shell.execute_reply": "2022-09-30T12:44:34.599684Z",
     "shell.execute_reply.started": "2022-09-30T12:44:34.599661Z"
    },
    "papermill": {
     "duration": null,
     "end_time": null,
     "exception": null,
     "start_time": null,
     "status": "pending"
    },
    "tags": []
   },
   "outputs": [],
   "source": [
    "print('Train RMSE: {}, Validation RMSE: {}'.format(rf2_train_rmse, rf2_val_rmse))"
   ]
  },
  {
   "cell_type": "markdown",
   "id": "152dbfd9",
   "metadata": {
    "papermill": {
     "duration": null,
     "end_time": null,
     "exception": null,
     "start_time": null,
     "status": "pending"
    },
    "tags": []
   },
   "source": [
    "## Test prediction"
   ]
  },
  {
   "cell_type": "code",
   "execution_count": null,
   "id": "923cc189",
   "metadata": {
    "execution": {
     "iopub.status.busy": "2022-09-30T12:44:34.601096Z",
     "iopub.status.idle": "2022-09-30T12:44:34.601806Z",
     "shell.execute_reply": "2022-09-30T12:44:34.601612Z",
     "shell.execute_reply.started": "2022-09-30T12:44:34.601590Z"
    },
    "papermill": {
     "duration": null,
     "end_time": null,
     "exception": null,
     "start_time": null,
     "status": "pending"
    },
    "tags": []
   },
   "outputs": [],
   "source": [
    "rf2_test_preds = rf2.predict(X_test)\n",
    "print('The test predictions are ₽ {}.'.format(test_preds))"
   ]
  }
 ],
 "metadata": {
  "kernelspec": {
   "display_name": "Python 3",
   "language": "python",
   "name": "python3"
  },
  "language_info": {
   "codemirror_mode": {
    "name": "ipython",
    "version": 3
   },
   "file_extension": ".py",
   "mimetype": "text/x-python",
   "name": "python",
   "nbconvert_exporter": "python",
   "pygments_lexer": "ipython3",
   "version": "3.7.12"
  },
  "papermill": {
   "default_parameters": {},
   "duration": 83.250452,
   "end_time": "2022-10-03T12:53:30.126699",
   "environment_variables": {},
   "exception": true,
   "input_path": "__notebook__.ipynb",
   "output_path": "__notebook__.ipynb",
   "parameters": {},
   "start_time": "2022-10-03T12:52:06.876247",
   "version": "2.3.4"
  }
 },
 "nbformat": 4,
 "nbformat_minor": 5
}
